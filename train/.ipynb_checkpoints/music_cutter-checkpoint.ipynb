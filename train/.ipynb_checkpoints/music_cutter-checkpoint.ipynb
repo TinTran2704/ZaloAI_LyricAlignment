{
 "cells": [
  {
   "cell_type": "code",
   "execution_count": 1,
   "id": "7ba7c028-cec4-4396-9079-c06bf5f4e56c",
   "metadata": {},
   "outputs": [
    {
     "name": "stderr",
     "output_type": "stream",
     "text": [
      "C:\\Users\\ADMIN\\anaconda3\\lib\\site-packages\\numpy\\_distributor_init.py:30: UserWarning: loaded more than 1 DLL from .libs:\n",
      "C:\\Users\\ADMIN\\anaconda3\\lib\\site-packages\\numpy\\.libs\\libopenblas.EL2C6PLE4ZYW3ECEVIV3OXXGRN2NRFM2.gfortran-win_amd64.dll\n",
      "C:\\Users\\ADMIN\\anaconda3\\lib\\site-packages\\numpy\\.libs\\libopenblas.XWYDX2IKJW2NMTWSFYNGFUWKQU3LYTCZ.gfortran-win_amd64.dll\n",
      "  warnings.warn(\"loaded more than 1 DLL from .libs:\"\n"
     ]
    }
   ],
   "source": [
    "import soundfile as sf\n",
    "import numpy as np\n",
    "import json\n",
    "from tqdm import tqdm\n",
    "import os"
   ]
  },
  {
   "cell_type": "code",
   "execution_count": 2,
   "id": "f2e52ac6-da0a-42ae-9bc7-40e66e417413",
   "metadata": {},
   "outputs": [],
   "source": [
    "files = os.listdir(\"labels\")\n",
    "\n",
    "file_ids = [f.split(\".\")[0] for f in files]\n",
    "file_ids = filter(lambda x: len(x) > 0, file_ids)\n",
    "\n",
    "LABEL_PATH = \"labels\"\n",
    "SONGS_PATH = \"songs\""
   ]
  },
  {
   "cell_type": "code",
   "execution_count": 3,
   "id": "be7391c1-1dda-4d1b-b856-1e16128f6535",
   "metadata": {},
   "outputs": [],
   "source": [
    "NEW_LABEL_PATH = \"new-labels\"\n",
    "NEW_SONGS_PATH = \"new-songs\""
   ]
  },
  {
   "cell_type": "code",
   "execution_count": 4,
   "id": "abb65048-c2d4-402b-8402-f441caca70b1",
   "metadata": {},
   "outputs": [],
   "source": [
    "def get_audio_segment(audiodata, samplerate, start_ms, end_ms):\n",
    "    d = audiodata[int(start_ms / 1000*samplerate):int(end_ms / 1000*samplerate)]\n",
    "    return d"
   ]
  },
  {
   "cell_type": "code",
   "execution_count": 5,
   "id": "f00d7a61-d17b-4016-a5e5-4e5fffa4fda9",
   "metadata": {},
   "outputs": [
    {
     "name": "stderr",
     "output_type": "stream",
     "text": [
      "0it [00:00, ?it/s]\n"
     ]
    },
    {
     "ename": "FileNotFoundError",
     "evalue": "[Errno 2] No such file or directory: 'new-labels\\\\3130303230345f30-0.json'",
     "output_type": "error",
     "traceback": [
      "\u001b[1;31m---------------------------------------------------------------------------\u001b[0m",
      "\u001b[1;31mFileNotFoundError\u001b[0m                         Traceback (most recent call last)",
      "\u001b[1;32m<ipython-input-5-ecbfbb7f7a2d>\u001b[0m in \u001b[0;36m<module>\u001b[1;34m\u001b[0m\n\u001b[0;32m     26\u001b[0m \u001b[1;33m\u001b[0m\u001b[0m\n\u001b[0;32m     27\u001b[0m         \u001b[1;31m# Dump new label for this sentence\u001b[0m\u001b[1;33m\u001b[0m\u001b[1;33m\u001b[0m\u001b[1;33m\u001b[0m\u001b[0m\n\u001b[1;32m---> 28\u001b[1;33m         \u001b[1;32mwith\u001b[0m \u001b[0mopen\u001b[0m\u001b[1;33m(\u001b[0m\u001b[0mos\u001b[0m\u001b[1;33m.\u001b[0m\u001b[0mpath\u001b[0m\u001b[1;33m.\u001b[0m\u001b[0mjoin\u001b[0m\u001b[1;33m(\u001b[0m\u001b[0mNEW_LABEL_PATH\u001b[0m\u001b[1;33m,\u001b[0m \u001b[0mfile_id\u001b[0m \u001b[1;33m+\u001b[0m \u001b[1;34m\"-\"\u001b[0m \u001b[1;33m+\u001b[0m \u001b[0mstr\u001b[0m\u001b[1;33m(\u001b[0m\u001b[0mi\u001b[0m\u001b[1;33m)\u001b[0m \u001b[1;33m+\u001b[0m \u001b[1;34m\".json\"\u001b[0m\u001b[1;33m)\u001b[0m\u001b[1;33m,\u001b[0m \u001b[1;34m\"wt\"\u001b[0m\u001b[1;33m)\u001b[0m \u001b[1;32mas\u001b[0m \u001b[0mf\u001b[0m\u001b[1;33m:\u001b[0m\u001b[1;33m\u001b[0m\u001b[1;33m\u001b[0m\u001b[0m\n\u001b[0m\u001b[0;32m     29\u001b[0m             \u001b[0mf\u001b[0m\u001b[1;33m.\u001b[0m\u001b[0mwrite\u001b[0m\u001b[1;33m(\u001b[0m\u001b[0mjson\u001b[0m\u001b[1;33m.\u001b[0m\u001b[0mdumps\u001b[0m\u001b[1;33m(\u001b[0m\u001b[0mnew_label\u001b[0m\u001b[1;33m)\u001b[0m\u001b[1;33m)\u001b[0m\u001b[1;33m\u001b[0m\u001b[1;33m\u001b[0m\u001b[0m\n\u001b[0;32m     30\u001b[0m \u001b[1;33m\u001b[0m\u001b[0m\n",
      "\u001b[1;31mFileNotFoundError\u001b[0m: [Errno 2] No such file or directory: 'new-labels\\\\3130303230345f30-0.json'"
     ]
    }
   ],
   "source": [
    "for file_id in tqdm(file_ids):\n",
    "    # Read label file\n",
    "    label_file = os.path.join(LABEL_PATH, file_id + \".json\")\n",
    "    label_data = json.load(open(label_file, encoding='utf-8'))\n",
    "    \n",
    "    # Read audio file\n",
    "    sound_file = os.path.join(SONGS_PATH, file_id + \".wav\")\n",
    "    audiodata, samplerate = sf.read(sound_file)\n",
    "    audiodata = np.mean(audiodata, axis=1)\n",
    "    \n",
    "    # Break segment into sentences\n",
    "    for i, sent_label in enumerate(label_data):\n",
    "        # Original start offset (in ms) of this sentence\n",
    "        orig_start = sent_label[\"s\"]\n",
    "        new_label = {\"orig_s\": orig_start, \"l\": []}\n",
    "        \n",
    "        sent_text = []\n",
    "        for tok in sent_label[\"l\"]:\n",
    "            new_tok = {\n",
    "                \"s\": tok[\"s\"] - orig_start,\n",
    "                \"e\": tok[\"e\"] - orig_start,\n",
    "                \"d\": tok[\"d\"].lower()\n",
    "            }\n",
    "            sent_text.append(tok[\"d\"])\n",
    "            new_label[\"l\"].append(new_tok)\n",
    "        \n",
    "        # Dump new label for this sentence\n",
    "        with open(os.path.join(NEW_LABEL_PATH, file_id + \"-\" + str(i) + \".json\"), \"wt\") as f:\n",
    "            f.write(json.dumps(new_label))\n",
    "        \n",
    "        # Dump new audio data\n",
    "        sent_audiodata = get_audio_segment(audiodata, samplerate, sent_label[\"s\"], sent_label[\"e\"])\n",
    "\n",
    "        sf.write(\n",
    "            file=os.path.join(NEW_SONGS_PATH, file_id + \"-\" + str(i) + \".wav\"),\n",
    "            data=sent_audiodata,\n",
    "            samplerate=samplerate\n",
    "        )"
   ]
  },
  {
   "cell_type": "code",
   "execution_count": null,
   "id": "5f3ca08e",
   "metadata": {},
   "outputs": [],
   "source": []
  }
 ],
 "metadata": {
  "kernelspec": {
   "display_name": "Python 3",
   "language": "python",
   "name": "python3"
  },
  "language_info": {
   "codemirror_mode": {
    "name": "ipython",
    "version": 3
   },
   "file_extension": ".py",
   "mimetype": "text/x-python",
   "name": "python",
   "nbconvert_exporter": "python",
   "pygments_lexer": "ipython3",
   "version": "3.8.8"
  }
 },
 "nbformat": 4,
 "nbformat_minor": 5
}
