{
 "cells": [
  {
   "cell_type": "code",
   "execution_count": 1,
   "id": "7ba7c028-cec4-4396-9079-c06bf5f4e56c",
   "metadata": {},
   "outputs": [
    {
     "name": "stderr",
     "output_type": "stream",
     "text": [
      "C:\\Users\\ADMIN\\anaconda3\\lib\\site-packages\\numpy\\_distributor_init.py:30: UserWarning: loaded more than 1 DLL from .libs:\n",
      "C:\\Users\\ADMIN\\anaconda3\\lib\\site-packages\\numpy\\.libs\\libopenblas.EL2C6PLE4ZYW3ECEVIV3OXXGRN2NRFM2.gfortran-win_amd64.dll\n",
      "C:\\Users\\ADMIN\\anaconda3\\lib\\site-packages\\numpy\\.libs\\libopenblas.XWYDX2IKJW2NMTWSFYNGFUWKQU3LYTCZ.gfortran-win_amd64.dll\n",
      "  warnings.warn(\"loaded more than 1 DLL from .libs:\"\n"
     ]
    }
   ],
   "source": [
    "import soundfile as sf\n",
    "import numpy as np\n",
    "import json\n",
    "from tqdm import tqdm\n",
    "import os"
   ]
  },
  {
   "cell_type": "code",
   "execution_count": 2,
   "id": "f2e52ac6-da0a-42ae-9bc7-40e66e417413",
   "metadata": {},
   "outputs": [],
   "source": [
    "files = os.listdir(\"labels\")\n",
    "\n",
    "file_ids = [f.split(\".\")[0] for f in files]\n",
    "file_ids = filter(lambda x: len(x) > 0, file_ids)\n",
    "\n",
    "LABEL_PATH = \"labels\"\n",
    "SONGS_PATH = \"songs\""
   ]
  },
  {
   "cell_type": "code",
   "execution_count": 3,
   "id": "be7391c1-1dda-4d1b-b856-1e16128f6535",
   "metadata": {},
   "outputs": [],
   "source": [
    "NEW_LABEL_PATH = \"new-labels\"\n",
    "NEW_SONGS_PATH = \"new-songs\""
   ]
  },
  {
   "cell_type": "code",
   "execution_count": 4,
   "id": "abb65048-c2d4-402b-8402-f441caca70b1",
   "metadata": {},
   "outputs": [],
   "source": [
    "def get_audio_segment(audiodata, samplerate, start_ms, end_ms):\n",
    "    d = audiodata[int(start_ms / 1000*samplerate):int(end_ms / 1000*samplerate)]\n",
    "    return d"
   ]
  },
  {
   "cell_type": "code",
   "execution_count": 5,
   "id": "f00d7a61-d17b-4016-a5e5-4e5fffa4fda9",
   "metadata": {},
   "outputs": [
    {
     "name": "stderr",
     "output_type": "stream",
     "text": [
      "0it [00:00, ?it/s]\n"
     ]
    },
    {
     "ename": "UnicodeDecodeError",
     "evalue": "'charmap' codec can't decode byte 0x81 in position 430: character maps to <undefined>",
     "output_type": "error",
     "traceback": [
      "\u001b[1;31m---------------------------------------------------------------------------\u001b[0m",
      "\u001b[1;31mUnicodeDecodeError\u001b[0m                        Traceback (most recent call last)",
      "\u001b[1;32m<ipython-input-5-3cf93167ca0d>\u001b[0m in \u001b[0;36m<module>\u001b[1;34m\u001b[0m\n\u001b[0;32m      3\u001b[0m     \u001b[0mlabel_file\u001b[0m \u001b[1;33m=\u001b[0m \u001b[0mos\u001b[0m\u001b[1;33m.\u001b[0m\u001b[0mpath\u001b[0m\u001b[1;33m.\u001b[0m\u001b[0mjoin\u001b[0m\u001b[1;33m(\u001b[0m\u001b[0mLABEL_PATH\u001b[0m\u001b[1;33m,\u001b[0m \u001b[0mfile_id\u001b[0m \u001b[1;33m+\u001b[0m \u001b[1;34m\".json\"\u001b[0m\u001b[1;33m)\u001b[0m\u001b[1;33m\u001b[0m\u001b[1;33m\u001b[0m\u001b[0m\n\u001b[0;32m      4\u001b[0m     \u001b[1;32mwith\u001b[0m \u001b[0mopen\u001b[0m\u001b[1;33m(\u001b[0m\u001b[0mlabel_file\u001b[0m\u001b[1;33m)\u001b[0m \u001b[1;32mas\u001b[0m \u001b[0mf\u001b[0m\u001b[1;33m:\u001b[0m\u001b[1;33m\u001b[0m\u001b[1;33m\u001b[0m\u001b[0m\n\u001b[1;32m----> 5\u001b[1;33m         \u001b[0mlabel_file\u001b[0m \u001b[1;33m=\u001b[0m \u001b[0mf\u001b[0m\u001b[1;33m.\u001b[0m\u001b[0mread\u001b[0m\u001b[1;33m(\u001b[0m\u001b[1;33m)\u001b[0m\u001b[1;33m\u001b[0m\u001b[1;33m\u001b[0m\u001b[0m\n\u001b[0m\u001b[0;32m      6\u001b[0m     \u001b[0mlabel_data\u001b[0m \u001b[1;33m=\u001b[0m \u001b[0mjson\u001b[0m\u001b[1;33m.\u001b[0m\u001b[0mloads\u001b[0m\u001b[1;33m(\u001b[0m\u001b[0mlabel_file\u001b[0m\u001b[1;33m)\u001b[0m\u001b[1;33m\u001b[0m\u001b[1;33m\u001b[0m\u001b[0m\n\u001b[0;32m      7\u001b[0m \u001b[1;33m\u001b[0m\u001b[0m\n",
      "\u001b[1;32m~\\anaconda3\\lib\\encodings\\cp1252.py\u001b[0m in \u001b[0;36mdecode\u001b[1;34m(self, input, final)\u001b[0m\n\u001b[0;32m     21\u001b[0m \u001b[1;32mclass\u001b[0m \u001b[0mIncrementalDecoder\u001b[0m\u001b[1;33m(\u001b[0m\u001b[0mcodecs\u001b[0m\u001b[1;33m.\u001b[0m\u001b[0mIncrementalDecoder\u001b[0m\u001b[1;33m)\u001b[0m\u001b[1;33m:\u001b[0m\u001b[1;33m\u001b[0m\u001b[1;33m\u001b[0m\u001b[0m\n\u001b[0;32m     22\u001b[0m     \u001b[1;32mdef\u001b[0m \u001b[0mdecode\u001b[0m\u001b[1;33m(\u001b[0m\u001b[0mself\u001b[0m\u001b[1;33m,\u001b[0m \u001b[0minput\u001b[0m\u001b[1;33m,\u001b[0m \u001b[0mfinal\u001b[0m\u001b[1;33m=\u001b[0m\u001b[1;32mFalse\u001b[0m\u001b[1;33m)\u001b[0m\u001b[1;33m:\u001b[0m\u001b[1;33m\u001b[0m\u001b[1;33m\u001b[0m\u001b[0m\n\u001b[1;32m---> 23\u001b[1;33m         \u001b[1;32mreturn\u001b[0m \u001b[0mcodecs\u001b[0m\u001b[1;33m.\u001b[0m\u001b[0mcharmap_decode\u001b[0m\u001b[1;33m(\u001b[0m\u001b[0minput\u001b[0m\u001b[1;33m,\u001b[0m\u001b[0mself\u001b[0m\u001b[1;33m.\u001b[0m\u001b[0merrors\u001b[0m\u001b[1;33m,\u001b[0m\u001b[0mdecoding_table\u001b[0m\u001b[1;33m)\u001b[0m\u001b[1;33m[\u001b[0m\u001b[1;36m0\u001b[0m\u001b[1;33m]\u001b[0m\u001b[1;33m\u001b[0m\u001b[1;33m\u001b[0m\u001b[0m\n\u001b[0m\u001b[0;32m     24\u001b[0m \u001b[1;33m\u001b[0m\u001b[0m\n\u001b[0;32m     25\u001b[0m \u001b[1;32mclass\u001b[0m \u001b[0mStreamWriter\u001b[0m\u001b[1;33m(\u001b[0m\u001b[0mCodec\u001b[0m\u001b[1;33m,\u001b[0m\u001b[0mcodecs\u001b[0m\u001b[1;33m.\u001b[0m\u001b[0mStreamWriter\u001b[0m\u001b[1;33m)\u001b[0m\u001b[1;33m:\u001b[0m\u001b[1;33m\u001b[0m\u001b[1;33m\u001b[0m\u001b[0m\n",
      "\u001b[1;31mUnicodeDecodeError\u001b[0m: 'charmap' codec can't decode byte 0x81 in position 430: character maps to <undefined>"
     ]
    }
   ],
   "source": [
    "for file_id in tqdm(file_ids):\n",
    "    # Read label file\n",
    "    label_file = os.path.join(LABEL_PATH, file_id + \".json\")\n",
    "    with open(label_file) as f:\n",
    "        label_file = f.read()\n",
    "    label_data = json.loads(label_file)\n",
    "    \n",
    "    # Read audio file\n",
    "    sound_file = os.path.join(SONGS_PATH, file_id + \".wav\")\n",
    "    audiodata, samplerate = sf.read(sound_file)\n",
    "    audiodata = np.mean(audiodata, axis=1)\n",
    "    \n",
    "    # Break segment into sentences\n",
    "    for i, sent_label in enumerate(label_data):\n",
    "        # Original start offset (in ms) of this sentence\n",
    "        orig_start = sent_label[\"s\"]\n",
    "        new_label = {\"orig_s\": orig_start, \"l\": []}\n",
    "        \n",
    "        sent_text = []\n",
    "        for tok in sent_label[\"l\"]:\n",
    "            new_tok = {\n",
    "                \"s\": tok[\"s\"] - orig_start,\n",
    "                \"e\": tok[\"e\"] - orig_start,\n",
    "                \"d\": tok[\"d\"].lower()\n",
    "            }\n",
    "            sent_text.append(tok[\"d\"])\n",
    "            new_label[\"l\"].append(new_tok)\n",
    "        \n",
    "        # Dump new label for this sentence\n",
    "        with open(os.path.join(NEW_LABEL_PATH, file_id + \"-\" + str(i) + \".json\"), \"wt\") as f:\n",
    "            f.write(json.dumps(new_label))\n",
    "        \n",
    "        # Dump new audio data\n",
    "        sent_audiodata = get_audio_segment(audiodata, samplerate, sent_label[\"s\"], sent_label[\"e\"])\n",
    "\n",
    "        sf.write(\n",
    "            file=os.path.join(NEW_SONGS_PATH, file_id + \"-\" + str(i) + \".wav\"),\n",
    "            data=sent_audiodata,\n",
    "            samplerate=samplerate\n",
    "        )"
   ]
  },
  {
   "cell_type": "code",
   "execution_count": null,
   "id": "5a47aa13",
   "metadata": {},
   "outputs": [],
   "source": []
  }
 ],
 "metadata": {
  "kernelspec": {
   "display_name": "Python 3",
   "language": "python",
   "name": "python3"
  },
  "language_info": {
   "codemirror_mode": {
    "name": "ipython",
    "version": 3
   },
   "file_extension": ".py",
   "mimetype": "text/x-python",
   "name": "python",
   "nbconvert_exporter": "python",
   "pygments_lexer": "ipython3",
   "version": "3.8.8"
  }
 },
 "nbformat": 4,
 "nbformat_minor": 5
}
